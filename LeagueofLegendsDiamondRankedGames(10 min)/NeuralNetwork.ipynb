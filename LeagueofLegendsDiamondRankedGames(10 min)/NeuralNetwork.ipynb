{
 "cells": [
  {
   "cell_type": "markdown",
   "metadata": {
    "id": "BxC7W6HplhEW"
   },
   "source": [
    "# League of Legends Diamond Ranked Games (10 min)"
   ]
  },
  {
   "cell_type": "markdown",
   "metadata": {
    "id": "OKooCxuIlkyQ"
   },
   "source": [
    "## (1) introduction\n",
    "\"League of Legends\" is a team-based strategy game. Two teams with five powerful summoners will face each other in a canyon. The goal of the team is to tear down each other's base.\n",
    "\n",
    "A typical League of Legends game usually lasts 30 to 45 minutes, and each game can be divided into three stages: the laning stage, the mid-term and late-stage. Players usually spend the first 10 to 15 minutes in their own branch (up, middle, down, JG) to develop in order to gain the advantage of equipment and level as early as possible.\n",
    "\n",
    "The combination of heroes of each team will have a crucial impact on the outcome of the game, because some heroes are very strong in the early game, while other heroes will grow substantially in the middle and late game.\n",
    "In the high score game of LOL (diamond to master segment), the final direction of the game is analyzed based on the data of the first 10 minutes. "
   ]
  },
  {
   "cell_type": "markdown",
   "metadata": {},
   "source": [
    "### dataset \n",
    "\n",
    "https://www.kaggle.com/bobbyscience/league-of-legends-diamond-ranked-games-10-min"
   ]
  },
  {
   "cell_type": "markdown",
   "metadata": {
    "id": "i0cKFYOCmOda"
   },
   "source": [
    "## (2) method\n",
    "\n",
    "Based on neural network, we use the model to train the dataset and predict the result, win or lose.\n",
    "\n",
    "The neural network structure is that:\n",
    "\n",
    "input size = 9\n",
    "\n",
    "16 units dense layer\n",
    "\n",
    "32 units full connect layer\n",
    "\n",
    "16 units dense layer\n",
    "\n",
    "8 units dense layer\n",
    "\n",
    "the binary output layer\n",
    "\n"
   ]
  },
  {
   "cell_type": "code",
   "execution_count": null,
   "metadata": {
    "id": "n4yDdq5xWDEU"
   },
   "outputs": [],
   "source": [
    "import tensorflow as tf\n",
    "from tensorflow.keras.models import Sequential\n",
    "from tensorflow.keras.layers import Dense, Dropout\n",
    "import numpy as np\n",
    "import pandas as pd\n",
    "from sklearn.preprocessing import MinMaxScaler\n",
    "from sklearn.model_selection import train_test_split\n",
    "import matplotlib.pyplot as plt"
   ]
  },
  {
   "cell_type": "code",
   "execution_count": null,
   "metadata": {
    "id": "YT89HBsDWGIf"
   },
   "outputs": [],
   "source": [
    "df = pd.read_csv('./data/lol/high_diamond_ranked_10min.csv')\n",
    "\n",
    "cols = ['gameId', 'blueWardsPlaced', 'blueWardsDestroyed',\n",
    "        'blueDeaths', \n",
    "       'blueEliteMonsters', 'blueHeralds',\n",
    "       'blueTowersDestroyed', 'blueTotalGold', 'blueAvgLevel',\n",
    "       'blueTotalExperience', 'blueTotalMinionsKilled',\n",
    "       'blueTotalJungleMinionsKilled', 'blueGoldDiff', 'blueExperienceDiff',\n",
    "        'blueGoldPerMin', 'redWardsPlaced', 'redWardsDestroyed',\n",
    "       'redFirstBlood', 'redDeaths',\n",
    "       'redEliteMonsters', 'redHeralds', 'redTowersDestroyed',\n",
    "       'redTotalGold', 'redAvgLevel', 'redTotalExperience',\n",
    "       'redTotalMinionsKilled', 'redTotalJungleMinionsKilled', 'redGoldDiff',\n",
    "       'redExperienceDiff', 'redGoldPerMin']\n",
    "df = df.drop(cols, axis=1)\n",
    "y = df['blueWins']"
   ]
  },
  {
   "cell_type": "code",
   "execution_count": null,
   "metadata": {
    "colab": {
     "base_uri": "https://localhost:8080/"
    },
    "id": "T0VjI836Xvjn",
    "outputId": "a6ee141a-ecfb-4a3e-9747-7df17310ad28"
   },
   "outputs": [
    {
     "name": "stdout",
     "output_type": "stream",
     "text": [
      "      blueFirstBlood  blueKills  ...  redDragons  redCSPerMin\n",
      "0                  1          9  ...           0         19.7\n",
      "1                  0          5  ...           1         24.0\n",
      "2                  0          7  ...           0         20.3\n",
      "3                  0          4  ...           0         23.5\n",
      "4                  0          6  ...           1         22.5\n",
      "...              ...        ...  ...         ...          ...\n",
      "9874               1          7  ...           0         22.9\n",
      "9875               0          6  ...           0         20.6\n",
      "9876               0          6  ...           1         26.1\n",
      "9877               1          2  ...           0         24.7\n",
      "9878               1          6  ...           1         20.1\n",
      "\n",
      "[9879 rows x 9 columns]\n"
     ]
    }
   ],
   "source": [
    "clist = df[df.columns[1:]].apply(lambda x: x.corr(df['blueWins']))\n",
    "cols=[]\n",
    "for col in clist.index:\n",
    "    if (clist[col]>0.2 or clist[col]<-0.2):\n",
    "        cols.append(col)\n",
    "df = df[cols]\n",
    "print(df)"
   ]
  },
  {
   "cell_type": "code",
   "execution_count": null,
   "metadata": {
    "id": "IesTWlTYXwrQ"
   },
   "outputs": [],
   "source": [
    "scaler = MinMaxScaler()\n",
    "scaler.fit(df)\n",
    "X = scaler.transform(df)\n",
    "X_train, X_test, y_train, y_test = train_test_split(X,y,test_size=0.2)"
   ]
  },
  {
   "cell_type": "code",
   "execution_count": null,
   "metadata": {
    "colab": {
     "base_uri": "https://localhost:8080/"
    },
    "id": "obPJbc-SX24e",
    "outputId": "eaa1265c-be8e-4274-ab99-ef7cb3690af6"
   },
   "outputs": [
    {
     "name": "stdout",
     "output_type": "stream",
     "text": [
      "Epoch 1/10\n",
      "173/173 [==============================] - 1s 3ms/step - loss: 0.6510 - accuracy: 0.6379 - val_loss: 0.6368 - val_accuracy: 0.6377\n",
      "Epoch 2/10\n",
      "173/173 [==============================] - 0s 2ms/step - loss: 0.6322 - accuracy: 0.6440 - val_loss: 0.6216 - val_accuracy: 0.6508\n",
      "Epoch 3/10\n",
      "173/173 [==============================] - 0s 2ms/step - loss: 0.6147 - accuracy: 0.6601 - val_loss: 0.6079 - val_accuracy: 0.6740\n",
      "Epoch 4/10\n",
      "173/173 [==============================] - 0s 2ms/step - loss: 0.5973 - accuracy: 0.6831 - val_loss: 0.5938 - val_accuracy: 0.6887\n",
      "Epoch 5/10\n",
      "173/173 [==============================] - 0s 2ms/step - loss: 0.5811 - accuracy: 0.7001 - val_loss: 0.5807 - val_accuracy: 0.6951\n",
      "Epoch 6/10\n",
      "173/173 [==============================] - 0s 2ms/step - loss: 0.5689 - accuracy: 0.7086 - val_loss: 0.5703 - val_accuracy: 0.7014\n",
      "Epoch 7/10\n",
      "173/173 [==============================] - 0s 2ms/step - loss: 0.5644 - accuracy: 0.7166 - val_loss: 0.5695 - val_accuracy: 0.6980\n",
      "Epoch 8/10\n",
      "173/173 [==============================] - 0s 2ms/step - loss: 0.5592 - accuracy: 0.7112 - val_loss: 0.5612 - val_accuracy: 0.7043\n",
      "Epoch 9/10\n",
      "173/173 [==============================] - 0s 2ms/step - loss: 0.5456 - accuracy: 0.7264 - val_loss: 0.5580 - val_accuracy: 0.7111\n",
      "Epoch 10/10\n",
      "173/173 [==============================] - 0s 2ms/step - loss: 0.5641 - accuracy: 0.7044 - val_loss: 0.5579 - val_accuracy: 0.7107\n"
     ]
    }
   ],
   "source": [
    "model = Sequential()\n",
    "model.add(Dense(16, input_shape=(9,)))\n",
    "model.add(Dense(32))\n",
    "model.add(Dense(16))\n",
    "model.add(Dense(8))\n",
    "model.add(Dense(1,activation='sigmoid'))\n",
    "model.compile(loss='binary_crossentropy',optimizer='SGD',metrics=['accuracy'])\n",
    "history = model.fit(X_train,y_train,validation_split=0.3, epochs=10)"
   ]
  },
  {
   "cell_type": "markdown",
   "metadata": {
    "id": "c4k0A4Q4nz7e"
   },
   "source": [
    "## (3) results\n",
    "\n",
    "accuracy"
   ]
  },
  {
   "cell_type": "code",
   "execution_count": null,
   "metadata": {
    "colab": {
     "base_uri": "https://localhost:8080/",
     "height": 285
    },
    "id": "Q6wzyYY5cdn9",
    "outputId": "1fa0c0f1-7c3b-4c8d-94dd-a4fb2db0aff1"
   },
   "outputs": [
    {
     "data": {
      "text/plain": [
       "[<matplotlib.lines.Line2D at 0x7f4f4a161310>]"
      ]
     },
     "execution_count": 40,
     "metadata": {
      "tags": []
     },
     "output_type": "execute_result"
    },
    {
     "data": {
      "image/png": "[encoded data removed]",
      "text/plain": [
       "<Figure size 432x288 with 1 Axes>"
      ]
     },
     "metadata": {
      "needs_background": "light",
      "tags": []
     },
     "output_type": "display_data"
    }
   ],
   "source": [
    "plt.plot(history.history['accuracy'])\n",
    "plt.plot(history.history['val_accuracy'])"
   ]
  },
  {
   "cell_type": "markdown",
   "metadata": {
    "id": "wEb_AM3vn7lE"
   },
   "source": [
    "loss"
   ]
  },
  {
   "cell_type": "code",
   "execution_count": null,
   "metadata": {
    "colab": {
     "base_uri": "https://localhost:8080/",
     "height": 282
    },
    "id": "hgzfXRC7cmhg",
    "outputId": "e492a809-07e9-4818-ce5b-6df37d863a7b"
   },
   "outputs": [
    {
     "data": {
      "text/plain": [
       "[<matplotlib.lines.Line2D at 0x7f4f486e1510>]"
      ]
     },
     "execution_count": 41,
     "metadata": {
      "tags": []
     },
     "output_type": "execute_result"
    },
    {
     "data": {
      "image/png": "[encoded data removed]",
      "text/plain": [
       "<Figure size 432x288 with 1 Axes>"
      ]
     },
     "metadata": {
      "needs_background": "light",
      "tags": []
     },
     "output_type": "display_data"
    }
   ],
   "source": [
    "plt.plot(history.history['loss'])\n",
    "plt.plot(history.history['val_loss'])"
   ]
  },
  {
   "cell_type": "markdown",
   "metadata": {
    "id": "tAruggwYn_X5"
   },
   "source": [
    "## (4) discussion\n",
    "\n",
    "The results are good at about 70% accuracy, but not good enough for the prediction. There are only 9 elements for the input, which is a very low-dimensional data set, because \"League of Legends\" may capture hundreds of variables from each game. For further experiments, functions such as hero combination, time range, and champion proficiency of a specific player can be included in the analysis. "
   ]
  }
 ],
 "metadata": {
  "colab": {
   "collapsed_sections": [],
   "name": "final_report.ipynb",
   "provenance": []
  },
  "kernelspec": {
   "display_name": "Python 3",
   "language": "python",
   "name": "python3"
  },
  "language_info": {
   "codemirror_mode": {
    "name": "ipython",
    "version": 3
   },
   "file_extension": ".py",
   "mimetype": "text/x-python",
   "name": "python",
   "nbconvert_exporter": "python",
   "pygments_lexer": "ipython3",
   "version": "3.8.5"
  }
 },
 "nbformat": 4,
 "nbformat_minor": 1
}
